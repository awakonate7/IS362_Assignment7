{
 "cells": [
  {
   "cell_type": "code",
   "execution_count": null,
   "id": "25029173",
   "metadata": {},
   "outputs": [],
   "source": [
    "import pandas as pd\n",
    "import numpy as np"
   ]
  },
  {
   "cell_type": "code",
   "execution_count": null,
   "id": "719ea6ba",
   "metadata": {},
   "outputs": [],
   "source": [
    "data = pd.read_csv('movies.csv', index_col=0, delimiter=',')\n",
    "myfam = pd.DataFrame(data)"
   ]
  },
  {
   "cell_type": "code",
   "execution_count": null,
   "id": "41276a63",
   "metadata": {},
   "outputs": [],
   "source": [
    "data"
   ]
  },
  {
   "cell_type": "code",
   "execution_count": null,
   "id": "768cd9ab",
   "metadata": {},
   "outputs": [],
   "source": [
    "\tBird Box\tThe Woman King\tTop Gun: Maverick\tLou\tBlack Panther\n",
    "Lala\t5.0\t5.0\t4.5\t4.5\t5.0\n",
    "Djeny\t4.5\t4.0\t5.0\t4.5\t4.5\n",
    "Faty\t4.0\t4.5\t5.0\t4.5\t5.0\n",
    "Aoua\t5.0\t4.0\t5.0\t5.0\t5.0\n",
    "Zara\t5.0\t5.0\t2.5\t5.0\t4.0"
   ]
  },
  {
   "cell_type": "markdown",
   "id": "66be9b3a",
   "metadata": {},
   "source": [
    "Now that I have my data loaded in the dataframe I can go ahead get my averages. I will also want to put into a new row by using loc as you can see below. Lastly I replace the NaN's with blanks as shown in the example problem."
   ]
  },
  {
   "cell_type": "code",
   "execution_count": null,
   "id": "4bf8f6fe",
   "metadata": {},
   "outputs": [],
   "source": [
    "myfam.loc['mean'] = myfam.mean()\n",
    "myfam.replace(np.nan, '', regex=True)"
   ]
  },
  {
   "cell_type": "code",
   "execution_count": null,
   "id": "3e113eb3",
   "metadata": {},
   "outputs": [],
   "source": [
    "\tBird Box\tThe Woman King\tTop Gun: Maverick\tLou\tBlack Panther\n",
    "Lala\t5.0\t5.0\t4.5\t4.5\t5.0\n",
    "Djeny\t4.5\t4.0\t5.0\t4.5\t4.5\n",
    "Faty\t4.0\t4.5\t5.0\t4.5\t5.0\n",
    "Aoua\t5.0\t4.0\t5.0\t5.0\t5.0\n",
    "Zara\t5.0\t5.0\t2.5\t5.0\t4.0\n",
    "mean\t4.7\t4.5\t4.4\t4.7\t4.7"
   ]
  },
  {
   "cell_type": "markdown",
   "id": "700892f6",
   "metadata": {},
   "source": [
    "Average rating for each user"
   ]
  },
  {
   "cell_type": "code",
   "execution_count": null,
   "id": "7e70c3a0",
   "metadata": {},
   "outputs": [],
   "source": [
    "myfam.mean()"
   ]
  },
  {
   "cell_type": "code",
   "execution_count": null,
   "id": "2c14bbdd",
   "metadata": {},
   "outputs": [],
   "source": [
    "Bird Box             4.7\n",
    "The Woman King       4.5\n",
    "Top Gun: Maverick    4.4\n",
    "Lou                  4.7\n",
    "Black Panther        4.7\n",
    "dtype: float64"
   ]
  },
  {
   "cell_type": "markdown",
   "id": "7180f68d",
   "metadata": {},
   "source": [
    "Here, I will find the average rating for each person."
   ]
  },
  {
   "cell_type": "code",
   "execution_count": null,
   "id": "4a7dcf01",
   "metadata": {},
   "outputs": [],
   "source": [
    "myfam.mean(axis=1)"
   ]
  },
  {
   "cell_type": "code",
   "execution_count": null,
   "id": "6060ca79",
   "metadata": {},
   "outputs": [],
   "source": [
    "Lala    4.8\n",
    "Djeny      4.5\n",
    "Fatou      4.6\n",
    "Aoua    4.8\n",
    "Zara      4.3\n",
    "mean      4.6\n",
    "dtype: float64"
   ]
  },
  {
   "cell_type": "markdown",
   "id": "2201936f",
   "metadata": {},
   "source": [
    "As you can see the mean is added as the last row fully calculated. Next step is to perform a normalization on the data."
   ]
  },
  {
   "cell_type": "code",
   "execution_count": null,
   "id": "759f6994",
   "metadata": {},
   "outputs": [],
   "source": [
    "myfam_norm = (myfam - myfam.min()) / (myfam.max() - myfam.min())\n",
    "myfam_norm.replace(np.nan, '', regex=True)"
   ]
  },
  {
   "cell_type": "code",
   "execution_count": null,
   "id": "a1022055",
   "metadata": {},
   "outputs": [],
   "source": [
    "\tBird Box\tThe Woman King\tTop Gun: Maverick\tLou\tBlack Panther\n",
    "Lala\t1.0\t1.0\t0.80\t0.0\t1.0\n",
    "Djeny\t0.5\t0.0\t1.00\t0.0\t0.5\n",
    "Fatou\t0.0\t0.5\t1.00\t0.0\t1.0\n",
    "Aoua\t1.0\t0.0\t1.00\t1.0\t1.0\n",
    "Zara\t1.0\t1.0\t0.00\t1.0\t0.0\n",
    "mean\t0.7\t0.5\t0.76\t0.4\t0.7"
   ]
  },
  {
   "cell_type": "markdown",
   "id": "4e0748f6",
   "metadata": {},
   "source": [
    "Or I can pivot transpose the information this way"
   ]
  },
  {
   "cell_type": "code",
   "execution_count": null,
   "id": "8028f75e",
   "metadata": {},
   "outputs": [],
   "source": [
    "ratings_norm = ((myfam - myfam.min()) / (myfam.max() - myfam.min())).transpose()\n",
    "ratings_norm"
   ]
  },
  {
   "cell_type": "code",
   "execution_count": null,
   "id": "49a4be22",
   "metadata": {},
   "outputs": [],
   "source": [
    "\tLala\tDjeny\tFatou\tAoua\tZara\tmean\n",
    "Bird Box\t1.0\t0.5\t0.0\t1.0\t1.0\t0.70\n",
    "The Woman King\t1.0\t0.0\t0.5\t0.0\t1.0\t0.50\n",
    "Top Gun: Maverick\t0.8\t1.0\t1.0\t1.0\t0.0\t0.76\n",
    "Lou\t0.0\t0.0\t0.0\t1.0\t1.0\t0.40\n",
    "Black Panther\t1.0\t0.5\t1.0\t1.0\t0.0\t0.70"
   ]
  },
  {
   "cell_type": "markdown",
   "id": "ce549af0",
   "metadata": {},
   "source": [
    "Average by user"
   ]
  },
  {
   "cell_type": "code",
   "execution_count": null,
   "id": "9e3ea0ff",
   "metadata": {},
   "outputs": [],
   "source": [
    "ratings_norm.mean(axis=1)"
   ]
  },
  {
   "cell_type": "code",
   "execution_count": null,
   "id": "5f98430e",
   "metadata": {},
   "outputs": [],
   "source": [
    "Bird Box             0.70\n",
    "The Woman King       0.50\n",
    "Top Gun: Maverick    0.76\n",
    "Lou                  0.40\n",
    "Black Panther        0.70\n",
    "dtype: float64"
   ]
  },
  {
   "cell_type": "markdown",
   "id": "c328e6b2",
   "metadata": {},
   "source": [
    "Average by movie"
   ]
  },
  {
   "cell_type": "code",
   "execution_count": null,
   "id": "70f72d9f",
   "metadata": {},
   "outputs": [],
   "source": [
    "mov_norm = pd.Series(ratings_norm.mean())\n",
    "mov_norm"
   ]
  },
  {
   "cell_type": "code",
   "execution_count": null,
   "id": "ed92f261",
   "metadata": {},
   "outputs": [],
   "source": [
    "Lala    0.760\n",
    "Djeny      0.400\n",
    "Fatou      0.500\n",
    "Aoua    0.800\n",
    "Zara      0.600\n",
    "mean      0.612\n",
    "dtype: float64\n"
   ]
  },
  {
   "cell_type": "markdown",
   "id": "2bb7cc4f",
   "metadata": {},
   "source": [
    "In conclusion, this data set has some advantages and disadvantages on using normalization. The normalized rating has advantage since a low or high rating by one single user won't have much of an effect. Perhaps normalizing would be useful if the ratings were done on a scale of 1-10 and most ratings were under 5, leaving some data far out of the 'normal' range."
   ]
  }
 ],
 "metadata": {
  "kernelspec": {
   "display_name": "Python 3 (ipykernel)",
   "language": "python",
   "name": "python3"
  },
  "language_info": {
   "codemirror_mode": {
    "name": "ipython",
    "version": 3
   },
   "file_extension": ".py",
   "mimetype": "text/x-python",
   "name": "python",
   "nbconvert_exporter": "python",
   "pygments_lexer": "ipython3",
   "version": "3.9.7"
  }
 },
 "nbformat": 4,
 "nbformat_minor": 5
}
